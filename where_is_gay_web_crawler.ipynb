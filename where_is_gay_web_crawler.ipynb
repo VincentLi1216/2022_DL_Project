{
 "cells": [
  {
   "cell_type": "code",
   "execution_count": 15,
   "id": "6d2ca6f2",
   "metadata": {},
   "outputs": [],
   "source": [
    "import os\n",
    "import time\n",
    "from selenium import webdriver\n",
    "from selenium.webdriver.chrome.options import Options\n",
    "from selenium.webdriver.common.by import By\n",
    "from selenium.webdriver.support.ui import WebDriverWait\n",
    "from selenium.webdriver.support import expected_conditions as EC\n",
    "from selenium.webdriver.common.action_chains import ActionChains\n",
    "from bs4 import BeautifulSoup\n",
    "import re\n",
    "import requests"
   ]
  },
  {
   "cell_type": "code",
   "execution_count": 2,
   "id": "857ea4eb",
   "metadata": {},
   "outputs": [
    {
     "data": {
      "text/plain": [
       "<os._wrap_close at 0x26caef13a00>"
      ]
     },
     "execution_count": 2,
     "metadata": {},
     "output_type": "execute_result"
    }
   ],
   "source": [
    "# 開啟Chrome\n",
    "os.popen(r'start chrome --remote-debugging-port=9999 --user-data-dir=\"C:\\Users\\allen\\AppData\\Local\\Google\\Chrome\\User Data\"')"
   ]
  },
  {
   "cell_type": "code",
   "execution_count": 3,
   "id": "2e27ce60",
   "metadata": {},
   "outputs": [],
   "source": [
    "# Chrome控制設定\n",
    "options = Options()\n",
    "options.add_experimental_option(\"debuggerAddress\", \"127.0.0.1:9999\")\n",
    "browser = webdriver.Chrome(options=options)"
   ]
  },
  {
   "cell_type": "code",
   "execution_count": null,
   "id": "7ca5cf74",
   "metadata": {},
   "outputs": [],
   "source": []
  },
  {
   "cell_type": "code",
   "execution_count": 52,
   "id": "03ecafd0",
   "metadata": {},
   "outputs": [],
   "source": [
    "# 前往網址\n",
    "url = \"https://www.shutterstock.com/zh/search/gay-faces?page=10\"\n",
    "browser.get(url)"
   ]
  },
  {
   "cell_type": "code",
   "execution_count": 53,
   "id": "e0bc6bde",
   "metadata": {},
   "outputs": [
    {
     "name": "stdout",
     "output_type": "stream",
     "text": [
      "scrolled.\n"
     ]
    }
   ],
   "source": [
    "# 頁面捲到最底，載入所有圖片\n",
    "browser.execute_script(\"window.scrollTo(0,document.body.scrollHeight)\")\n",
    "time.sleep(1)\n",
    "print(\"scrolled.\")"
   ]
  },
  {
   "cell_type": "code",
   "execution_count": 54,
   "id": "6a269a89",
   "metadata": {},
   "outputs": [
    {
     "name": "stdout",
     "output_type": "stream",
     "text": [
      "soup get.\n",
      "共找到: 101 張照片\n"
     ]
    }
   ],
   "source": [
    "# get html page\n",
    "soup = BeautifulSoup(browser.page_source, 'html.parser')\n",
    "print(\"soup get.\")\n",
    "\n",
    "# locate所有圖片\n",
    "elements = soup.find_all(class_=\"mui-1l7n00y-thumbnail\")\n",
    "links = list([])\n",
    "for element in elements:\n",
    "    links.append([element.get('src'), element.get('title')])\n",
    "print(\"共找到:\", str(len(links)), \"張照片\")"
   ]
  },
  {
   "cell_type": "code",
   "execution_count": 55,
   "id": "6ee608c6",
   "metadata": {
    "scrolled": true
   },
   "outputs": [
    {
     "name": "stdout",
     "output_type": "stream",
     "text": [
      "1. ['https://www.shutterstock.com/image-photo/valentine-couple-holding-paper-heart-260nw-1989926522.jpg', \"valentine couple holding a paper heart. valentine's day concept\"] downloaded\n",
      "2. ['https://www.shutterstock.com/image-photo/multiracial-people-gay-pride-parade-260nw-1865359438.jpg', 'Multiracial people at gay pride parade with banner - LGBTQI concept - Homosexual and transgender rights'] downloaded\n",
      "3. ['https://www.shutterstock.com/image-photo/homosexual-multiracial-people-different-generations-260nw-1928539274.jpg', 'Homosexual multiracial people from different generations at gay pride parade with banner and lgbt rainbow flags'] downloaded\n",
      "4. ['https://www.shutterstock.com/image-photo/gay-man-sticking-out-tongue-260nw-1817298680.jpg', 'Gay man sticking out tongue and winking his eye. Gender fluid man making funny facial expressions on white background.'] downloaded\n",
      "5. ['https://www.shutterstock.com/image-photo/man-perfect-smile-260nw-302691962.jpg', 'Man with the PERFECT SMILE'] downloaded\n",
      "6. ['https://www.shutterstock.com/image-photo/young-gay-couple-wearing-casual-260nw-1875980398.jpg', 'Young gay couple wearing casual clothes begging and praying with hands together with hope expression on face very emotional and worried. begging. '] downloaded\n",
      "7. ['https://www.shutterstock.com/image-photo/multiracial-cute-gay-couple-sitting-260nw-1848290458.jpg', 'Multiracial cute gay couple sitting outside a coffee shop holding hands, talking and drinking latte'] downloaded\n",
      "8. ['https://www.shutterstock.com/image-photo/young-activist-lgbt-rights-rainbow-260nw-2227077385.jpg', 'Young activist for lgbt rights with rainbow flag, group of diverse people of gay and lesbian community, heart shape hands, smiling and happy faces'] downloaded\n",
      "9. ['https://www.shutterstock.com/image-photo/young-hispanic-gay-couple-standing-260nw-2227044347.jpg', 'Young hispanic gay couple standing over yellow background pointing with hand finger to the side showing advertisement, serious and calm face '] downloaded\n",
      "10. ['https://www.shutterstock.com/image-photo/young-hispanic-gay-couple-standing-260nw-2227044357.jpg', 'Young hispanic gay couple standing over pink background rejection expression crossing arms doing negative sign, angry face '] downloaded\n",
      "11. ['https://www.shutterstock.com/image-photo/young-gay-woman-wearing-lgbt-260nw-2042234966.jpg', 'Young gay woman wearing LGBT face mask and using mobile smartphone while listening to music with wireless headphones outdoor - Gender equality and technology concept'] downloaded\n",
      "12. ['https://www.shutterstock.com/image-vector/pride-flag-gay-vector-icon-260nw-1415891432.jpg', 'pride flag. Gay vector icon or LGBT. smile icon. Happy smiley face. Smiling Emoticon Rainbow Happy face vector. Emoticon. Pride symbol.'] downloaded\n",
      "13. ['https://www.shutterstock.com/image-photo/transformation-260nw-134273057.jpg', 'Transformation'] downloaded\n",
      "14. ['https://www.shutterstock.com/image-photo/horror-terrified-young-gay-couple-260nw-1639721005.jpg', 'Horror. Terrified young gay couple making a face while standing against blue background'] downloaded\n",
      "15. ['https://www.shutterstock.com/image-photo/sydney-gay-lesbian-mardi-gras-260nw-699175075.jpg', 'Sydney Gay & Lesbian Mardi Gras Parade- 2016'] downloaded\n",
      "16. ['https://www.shutterstock.com/image-photo/romantic-gay-couple-beach-260nw-1913319745.jpg', 'Romantic gay couple at the beach.'] downloaded\n",
      "17. ['https://www.shutterstock.com/image-photo/sydney-gay-lesbian-mardi-gras-260nw-699175093.jpg', 'Sydney Gay & Lesbian Mardi Gras Parade- 2016'] downloaded\n",
      "18. ['https://www.shutterstock.com/image-photo/art-face-rainbow-body-paint-260nw-2198079243.jpg', 'The Art Face. Rainbow body paint on african woman. Abstract creative lgbtq portrait. Bright fashion makeup on the girl.'] downloaded\n",
      "19. ['https://www.shutterstock.com/image-photo/lesbian-parents-their-adopted-daughter-260nw-1670997151.jpg', \"Lesbian parents and their adopted daughter in the backyard on a sunny day. LGBT parenting and child's mental health.\"] downloaded\n",
      "20. ['https://www.shutterstock.com/image-vector/portrait-lgbtq-guy-student-young-260nw-1790054612.jpg', 'Portrait of an LGBTQ + guy or student. Young Latin-American man with a bright modern eye makeup. Social network profile avatar. Vector flat illustration. Full face view. Closeup.'] downloaded\n",
      "21. ['https://www.shutterstock.com/image-vector/two-men-gay-looking-each-260nw-1389753872.jpg', 'Two men are gay, looking at each other with tenderness. Lie face to face. Concept illustration to the topic of LGBT and homosexuality. Vector illustration.'] downloaded\n",
      "❌failed to download 22. ['https://www.shutterstock.com/image-vector/young-african-american-mans-face-260nw-163703258.jpg', 'Young African American man\\'s face. Vector illustration from \"Bodies Templates\" set. ']\n",
      "23. ['https://www.shutterstock.com/image-vector/wow-pop-art-male-hipster-260nw-1150664333.jpg', 'Wow pop art male hipster face. Young surprised man with beard and open mouth Wow speech bubble. Vector colorful illustration in retro comic style.'] downloaded\n",
      "24. ['https://www.shutterstock.com/image-photo/man-naked-wet-athletic-body-260nw-702736669.jpg', 'man with a naked, wet, athletic body'] downloaded\n",
      "25. ['https://www.shutterstock.com/image-photo/portrait-gay-man-queer-white-260nw-2162783441.jpg', 'Portrait of gay man queer in white t-shirt on yellow background in a concept of lgbtq and lgbtq+ posing and looking on camera.'] downloaded\n",
      "26. ['https://www.shutterstock.com/image-photo/young-gay-couple-smiling-happy-260nw-1908922501.jpg', 'Young gay couple smiling happy walking at the beach promenade.'] downloaded\n",
      "27. ['https://www.shutterstock.com/image-photo/alluring-sexy-male-model-lying-260nw-1861496251.jpg', 'Alluring sexy male model lying in bed shirtless wearing underwear and seducing the camera by biting lips.'] downloaded\n",
      "28. ['https://www.shutterstock.com/image-photo/lgbtq-couple-embracing-each-other-260nw-2220402725.jpg', 'LGBTQ+ couple embracing each other and srinking wine indoors. Two romantic young male lovers looking at each other while sitting together in their living room. Young gay couple being romantic at home.'] downloaded\n",
      "29. ['https://www.shutterstock.com/image-photo/lgbtq-couple-embracing-each-other-260nw-2220402749.jpg', 'LGBTQ+ couple embracing each other and srinking wine indoors. Two romantic young male lovers looking at each other while sitting together in their living room. Young gay couple being romantic at home.'] downloaded\n",
      "30. ['https://www.shutterstock.com/image-photo/portrait-attractive-asian-young-gay-260nw-2160257557.jpg', 'Portrait of attractive asian young gay men couples laying on bed together, touching face with romantic feeling, showing some LGBT lover affection. Asian LGBT couples concept'] downloaded\n",
      "31. ['https://www.shutterstock.com/image-photo/young-gay-couple-wearing-casual-260nw-1780735448.jpg', 'Young gay couple wearing casual clothes with hand on chin thinking about question, pensive expression. smiling with thoughtful face. doubt concept. '] downloaded\n",
      "32. ['https://www.shutterstock.com/image-illustration/cute-smiling-happy-half-male-260nw-1764038888.jpg', 'Cute smiling happy half male and half female and circle arrow.modern flat style illustration icon design. Isolated on white background.Transgender,transsexual,gay,lgbtq concept'] downloaded\n",
      "33. ['https://www.shutterstock.com/image-photo/handsome-attractive-young-male-model-260nw-531817990.jpg', 'Handsome and attractive young male model with fashionable hairstyle posing for the camera'] downloaded\n",
      "34. ['https://www.shutterstock.com/image-photo/gay-couple-handsome-men-balloons-260nw-1867343785.jpg', 'Gay couple of handsome men with balloons in the shape of hearts on a white wall background'] downloaded\n",
      "35. ['https://www.shutterstock.com/image-photo/black-woman-afro-hair-holds-260nw-1930802879.jpg', 'Black woman with afro hair holds lgbtq flag gay pride armband,She fights for sexual freedom.'] downloaded\n",
      "36. ['https://www.shutterstock.com/image-photo/flag-rainbow-bag-participant-community-260nw-712591702.jpg', '彩虹的旗帜在社区 lgbt 的参与者的袋子。 符号'] downloaded\n",
      "37. ['https://www.shutterstock.com/image-photo/portrait-male-fashion-model-stylish-260nw-59873197.jpg', 'Portrait of male fashion model with stylish hairstyle and makeup'] downloaded\n"
     ]
    },
    {
     "name": "stdout",
     "output_type": "stream",
     "text": [
      "38. ['https://www.shutterstock.com/image-vector/pansexual-pride-grunge-style-flag-260nw-1441068953.jpg', 'Pansexual pride grunge style flag and abstract human face line art. Gay and lesbian, icon symbol or logo. Design element for social media, poster, t-shirt print, leaflet. Vector illustration.'] downloaded\n",
      "39. ['https://www.shutterstock.com/image-photo/young-hispanic-gay-holding-shiny-260nw-2224361415.jpg', 'Young hispanic gay holding shiny disco ball smiling with an idea or question pointing finger with happy face, number one '] downloaded\n",
      "40. ['https://www.shutterstock.com/image-vector/gay-pride-lgbt-concept-doodle-260nw-1450574024.jpg', 'Gay Pride LGBT concept. Doodle style vector colorful illustrations.'] downloaded\n",
      "41. ['https://www.shutterstock.com/image-photo/gay-man-pride-flag-smiling-260nw-2229145291.jpg', 'gay man with a gay pride flag smiling and looking away on yellow background'] downloaded\n",
      "42. ['https://www.shutterstock.com/image-photo/gay-man-pride-flag-smiling-260nw-2229145255.jpg', 'gay man with a gay pride flag smiling and looking away on yellow background'] downloaded\n",
      "43. ['https://www.shutterstock.com/image-photo/young-gay-couple-standing-over-260nw-2223784939.jpg', 'Young gay couple standing over isolated white background smiling with happy face looking and pointing to the side with thumb up. '] downloaded\n",
      "44. ['https://www.shutterstock.com/image-photo/young-handsome-man-preparing-cocktail-260nw-2007148469.jpg', 'Young handsome man preparing cocktail mixing drink with shaker depressed and worry for distress, crying angry and afraid. sad expression. '] downloaded\n",
      "45. ['https://www.shutterstock.com/image-photo/depressed-young-guy-white-sweater-260nw-1424084432.jpg', 'A depressed young guy in a white sweater with a rainbow pattern sits leaning against the blue wall, hugging knees, laying head on them and hiding his face. '] downloaded\n",
      "46. ['https://www.shutterstock.com/image-photo/smiling-young-lesbian-couple-standing-260nw-1114715495.jpg', 'Smiling young lesbian couple standing together on a street in the city making faces and taking selfies while enjoying a day out '] downloaded\n",
      "47. ['https://www.shutterstock.com/image-photo/young-gay-couple-standing-over-260nw-2158365051.jpg', 'Young gay couple standing over isolated background shaking and freezing for winter cold with sad and shock expression on face '] downloaded\n",
      "48. ['https://www.shutterstock.com/image-photo/positive-young-gay-man-feels-260nw-2223468145.jpg', 'Positive young gay man feels great, wears purple top, broadly smiles and looks at camera stands over beige background. Closeup portrait of face. Student, generation z concept.'] downloaded\n",
      "49. ['https://www.shutterstock.com/image-photo/girl-blonde-hair-on-white-260nw-74948248.jpg', 'The girl with blonde hair on white background'] downloaded\n",
      "50. ['https://www.shutterstock.com/image-vector/women-flat-illustration-design-earing-260nw-2223231435.jpg', 'Women flat illustration design with earing. Closeup of faces beautiful gay couple. Romantic lgbt couple of two young enamored women standing together and looking at, '] downloaded\n",
      "51. ['https://www.shutterstock.com/image-vector/women-flat-illustration-design-earing-260nw-2223231437.jpg', 'Women flat illustration design with earing. Closeup of faces beautiful gay couple. Romantic lgbt couple of two young enamored women standing together and looking at, '] downloaded\n",
      "52. ['https://www.shutterstock.com/image-vector/women-flat-illustration-design-earing-260nw-2223231439.jpg', 'Women flat illustration design with earing. Closeup of faces beautiful gay couple. Romantic lgbt couple of two young enamored women standing together and looking at, '] downloaded\n",
      "53. ['https://www.shutterstock.com/image-vector/women-flat-illustration-design-earing-260nw-2223231441.jpg', 'Women flat illustration design with earing. Closeup of faces beautiful gay couple. Romantic lgbt couple of two young enamored women standing together and looking at, '] downloaded\n",
      "54. ['https://www.shutterstock.com/image-vector/hand-drawn-affectionate-lesbian-kiss-260nw-2001312224.jpg', 'Hand drawn affectionate lesbian kiss'] downloaded\n",
      "55. ['https://www.shutterstock.com/image-vector/rainbow-people-lgbt-poster-design-260nw-1754083109.jpg', 'Rainbow people. LGBT poster design. Gay Pride. LGBTQ ad divercity concept. Isolated vector colorful illustration. Sticker, patch, t-shirt print, greeting card, banner.'] downloaded\n",
      "56. ['https://www.shutterstock.com/image-photo/beautiful-masculine-portrait-handsome-topless-260nw-1679214475.jpg', 'Beautiful masculine portrait of handsome topless male model outdoors.'] downloaded\n",
      "57. ['https://www.shutterstock.com/image-photo/hispanic-transgender-man-wearing-make-260nw-1907737144.jpg', 'Hispanic transgender man wearing make up and long hair wearing casual clothes skeptic and nervous, disapproving expression on face with crossed arms. negative person. '] downloaded\n",
      "58. ['https://www.shutterstock.com/image-photo/young-gay-couple-wearing-casual-260nw-1824606158.jpg', 'Young gay couple wearing casual clothes excited for success with arms raised and eyes closed celebrating victory smiling. winner concept. '] downloaded\n",
      "59. ['https://www.shutterstock.com/image-photo/cute-photo-lgbt-family-spending-260nw-1748165744.jpg', 'Cute photo of LGBT family spending time in the park. Happy foster girl riding her scooter and receiving kisses and hugs from loving mothers.'] downloaded\n",
      "60. ['https://www.shutterstock.com/image-photo/young-hispanic-gay-couple-standing-260nw-2167814713.jpg', 'Young hispanic gay couple standing over pink background yawning tired covering half face, eye and mouth with hand. face hurts in pain. '] downloaded\n",
      "61. ['https://www.shutterstock.com/image-photo/young-hispanic-gay-couple-standing-260nw-2191615415.jpg', 'Young hispanic gay couple standing over yellow background in shock face, looking skeptical and sarcastic, surprised with open mouth '] downloaded\n",
      "62. ['https://www.shutterstock.com/image-photo/young-gay-couple-wearing-volunteer-260nw-2191614333.jpg', 'Young gay couple wearing volunteer t shirt at donations stand pointing with hand finger to face and nose, smiling cheerful. beauty concept '] downloaded\n",
      "63. ['https://www.shutterstock.com/image-photo/two-beautiful-women-licking-kissing-260nw-74788006.jpg', 'Two beautiful women licking and kissing a red lollipop against white background'] downloaded\n",
      "64. ['https://www.shutterstock.com/image-vector/girl-hair-color-lgbt-flag-260nw-1905969397.jpg', 'Girl with hair in the color of the LGBT flag. Bisexual, Lesbian, Gay, Transgender. Human rights and tolerance. Card with place for your text. LGBT Pride. EPS10'] downloaded\n",
      "65. ['https://www.shutterstock.com/image-photo/man-drinking-hot-chocolate-christmas-260nw-1842343108.jpg', 'man drinking hot chocolate. Christmas tree pattern. Decorated drink mug. male wearing knitted sweater with Xmas ornament holding hot coffee in red cup. Gay celebrate winter holidays. no face'] downloaded\n",
      "66. ['https://www.shutterstock.com/image-vector/family-avatars-heterosexual-homosexual-parents-260nw-1893743041.jpg', 'Family avatars. Heterosexual and homosexual parents with one child. Multiethnic, multiracial couple portrait. Gay men, lesbian women. Vector cartoon illustration.'] downloaded\n",
      "67. ['https://www.shutterstock.com/image-photo/happy-couple-young-gay-men-260nw-1868199451.jpg', \"Happy couple of young gay men hide hold red paper heart lying on back on valentine's day in blur\"] downloaded\n",
      "68. ['https://www.shutterstock.com/image-photo/love-triangle-young-woman-relationship-260nw-1043907601.jpg', 'Love triangle. Young woman in relationship with two men.back view of threesome love friends of two men and one woman.'] downloaded\n",
      "69. ['https://www.shutterstock.com/image-photo/thessaloniki-greece-june-23-2018-260nw-1119279674.jpg', 'Thessaloniki, Greece - June 23, 2018. A man with his face painted in the colors of the Rainbow Flag holds a Rainbow Flag as he takes part at the annual Gay Pride.'] downloaded\n",
      "70. ['https://www.shutterstock.com/image-photo/hispanic-man-wearing-make-long-260nw-2002448696.jpg', 'Hispanic man wearing make up and long hair wearing womans top looking confident at the camera with smile with crossed arms and hand raised on chin. thinking positive. '] downloaded\n"
     ]
    },
    {
     "name": "stdout",
     "output_type": "stream",
     "text": [
      "71. ['https://www.shutterstock.com/image-photo/young-hispanic-gay-couple-standing-260nw-2222230663.jpg', 'Young hispanic gay couple standing over pink background looking away to side with smile on face, natural expression. laughing confident. '] downloaded\n",
      "72. ['https://www.shutterstock.com/image-photo/cowboy-cup-american-west-western-260nw-1614377401.jpg', 'Cowboy with cup. American West. Western man with hat. Pink velvet cowboy hat. Gay. Portrait of cowboy. Lollipop. Cowboy drinking. American bandit.'] downloaded\n",
      "73. ['https://www.shutterstock.com/image-photo/lgbtq-couple-embracing-each-other-260nw-2217486981.jpg', 'LGBTQ+ couple embracing each other and drinking wine indoors. Two romantic young male lovers looking at each other while sitting together in their living room. Young gay couple being romantic at home.'] downloaded\n",
      "74. ['https://www.shutterstock.com/image-photo/lgbtq-couple-embracing-each-other-260nw-2217486997.jpg', 'LGBTQ+ couple embracing each other and drinking wine indoors. Two romantic young male lovers looking at each other while sitting together in their living room. Young gay couple being romantic at home.'] downloaded\n",
      "75. ['https://www.shutterstock.com/image-photo/worker-working-together-looking-boy-260nw-1656235423.jpg', 'worker working together looking at a boy friend face. Gay men fall in love with friends at work in factory.'] downloaded\n",
      "76. ['https://www.shutterstock.com/image-photo/vancouver-canada-august-2-2015-260nw-303187949.jpg', 'VANCOUVER, CANADA - AUGUST 2, 2015: People participate in the annual Pride Parade and celebrations in Vancouver, Canada, Aug. 2, 2015.'] downloaded\n",
      "77. ['https://www.shutterstock.com/image-vector/love-pride-month-faces-young-260nw-2157367393.jpg', 'Love is love. pride month. The faces of young people who have love between them. A couple of international gay men. Men in love with each other. Flat vector illustration. LGBT+'] downloaded\n",
      "78. ['https://www.shutterstock.com/image-photo/gay-man-looking-himself-bathroom-260nw-2227209125.jpg', 'Gay man looking at himself in the bathroom mirror. Happy gay man looking at himself in the bathroom mirror'] downloaded\n",
      "79. ['https://www.shutterstock.com/image-photo/violence-family-love-relationships-gay-260nw-1191377752.jpg', 'Violence in the family. Love and relationships. Gay couple. '] downloaded\n",
      "80. ['https://www.shutterstock.com/image-photo/young-nonbinary-person-wears-boxing-260nw-2168903705.jpg', 'Young non-binary person wears boxing gloves on a mustard yellow background, the person is make up and does different boxing poses. Concept equality, homosexuality, gay, lesbian, gay pride.'] downloaded\n",
      "81. ['https://www.shutterstock.com/image-photo/people-lgbtq-community-lifestyle-concept-260nw-2190342483.jpg', 'People, lgbtq community and lifestyle concept. Profile view of handsome gay man with glitter on face, looking left, standing over white background'] downloaded\n",
      "82. ['https://www.shutterstock.com/image-photo/people-lgbtq-beauty-concept-beautiful-260nw-2190342507.jpg', 'People, lgbtq and beauty concept. Beautiful cheeky gay man winking at camera and smiling, standing with glitter on face against white background'] downloaded\n",
      "83. ['https://www.shutterstock.com/image-photo/closeup-beautiful-gay-man-glitter-260nw-2190342509.jpg', 'Close-up of beautiful gay man with glitter on face pucker lips after applying lip gloss, standing over white background'] downloaded\n",
      "84. ['https://www.shutterstock.com/image-photo/young-gay-couple-standing-over-260nw-2166269471.jpg', 'Young gay couple standing over isolated white background cheerful with a smile of face pointing with hand and finger up to the side with happy and natural expression on face '] downloaded\n",
      "85. ['https://www.shutterstock.com/image-photo/hilarious-man-gossiping-during-tea-260nw-1999928582.jpg', 'Hilarious man gossiping during tea time'] downloaded\n",
      "86. ['https://www.shutterstock.com/image-photo/interracial-gay-couple-posing-before-260nw-1322668052.jpg', 'An interracial gay couple posing before the camera to have their pictures taken - black man and mixed race man - on black background - with copy space. '] downloaded\n",
      "87. ['https://www.shutterstock.com/image-photo/young-handsome-man-wearing-casual-260nw-1922979641.jpg', 'Young handsome man wearing casual black t shirt smiling and looking at the camera pointing with two hands and fingers to the side. '] downloaded\n",
      "88. ['https://www.shutterstock.com/image-photo/multiracial-friends-dance-gay-pride-260nw-1851457732.jpg', 'Multiracial friends dance at gay pride parade with rainbow flag'] downloaded\n",
      "89. ['https://www.shutterstock.com/image-photo/gay-fathers-children-playing-together-260nw-2221139579.jpg', 'Gay fathers and children playing together with kite outdoor - LGBT family love concept - Soft focus on right dad face'] downloaded\n",
      "90. ['https://www.shutterstock.com/image-photo/public-life-people-protective-masks-260nw-1966036759.jpg', 'The public life of people in protective masks is walking along Corso Vittorio Emanuele II. End of coronavirus quarantine. Living with COVID 19. Tourists in the city.  Fashion. Milan Italy May 2021'] downloaded\n",
      "91. ['https://www.shutterstock.com/image-photo/people-lgbtq-beauty-concept-headshot-260nw-2189822801.jpg', 'People, lgbtq and beauty concept. Headshot of beautiful gay man with glitter on face, smiling and looking happy, touching cheek after kiss, white background'] downloaded\n",
      "92. ['https://www.shutterstock.com/image-photo/young-smiling-blond-latin-gay-260nw-2119054649.jpg', 'Young smiling blond latin gay man with make up in beige tank shirt hug himself look camera blink prop up face isolated on plain light ocher background studio portrait People lgbt lifestyle concept.'] downloaded\n",
      "93. ['https://www.shutterstock.com/image-photo/people-lgbtq-beauty-concept-closeup-260nw-2165693789.jpg', 'People, lgbtq and beauty concept. Close-up of carefree gay man with glitter on face, showing tongue and making funny face, standing over white background'] downloaded\n",
      "94. ['https://www.shutterstock.com/image-photo/waistup-shot-beautiful-gay-man-260nw-2165693799.jpg', 'Waist-up shot of beautiful gay man with glitter on face, wrap himself with rainbow lgbt flag and touching face gently, looking at camera, white background'] downloaded\n",
      "95. ['https://www.shutterstock.com/image-photo/people-lgbtq-beauty-concept-closeup-260nw-2165693823.jpg', 'People, lgbtq and beauty concept. Close-up of carefree gay man with glitter on face, showing tongue and making funny face, standing over white background'] downloaded\n",
      "96. ['https://www.shutterstock.com/image-photo/submissive-slave-blindfolded-eyes-shiny-260nw-333086168.jpg', 'submissive slave with blindfolded eyes in shiny rubber mask'] downloaded\n",
      "97. ['https://www.shutterstock.com/image-photo/condom-male-hand-close-up-260nw-1810331512.jpg', 'Condom in male hand close up, safe sex during coronavirus pandemic. Man in medical face mask giving condom in package, contraception concept'] downloaded\n",
      "98. ['https://www.shutterstock.com/image-photo/sexy-closeup-portrait-topless-handsome-260nw-1680595123.jpg', 'Sexy closeup portrait of topless handsome male model with beautiful eyes.'] downloaded\n",
      "99. ['https://www.shutterstock.com/image-photo/young-gay-couple-standing-together-260nw-2189547743.jpg', 'Young gay couple standing together over isolated background smiling cheerful playing peek a boo with hands showing face. surprised and exited '] downloaded\n",
      "100. ['https://www.shutterstock.com/image-photo/people-lgbtq-community-lifestyle-concept-260nw-2189470957.jpg', 'People, lgbtq community and lifestyle concept. Close-up of sassy and beautiful gay man with glitter on face, pucker lips in kiss and showing peace sign, white background'] downloaded\n",
      "101. ['https://www.shutterstock.com/image-illustration/zeus-street-art-illustrationtshirt-graphics-260nw-2133934917.jpg', 'Zeus street art illustration.T-shirt graphics for men.Pop art david statue print.Gothic slogan style.'] downloaded\n"
     ]
    }
   ],
   "source": [
    "# 照片儲存path\n",
    "save_img_folder = './Gay faces/'\n",
    "\n",
    "for i in range(len(links)):\n",
    "    try:\n",
    "        img_data = requests.get(links[i][0]).content\n",
    "        with open(save_img_folder+links[i][1]+'.jpg', 'wb') as handler:\n",
    "            handler.write(img_data)\n",
    "        print(str(i+1)+\".\",links[i],\"downloaded\")\n",
    "    except:\n",
    "        print(\"❌failed to download\",str(i+1)+\".\",links[i])"
   ]
  },
  {
   "cell_type": "code",
   "execution_count": null,
   "id": "77524d66",
   "metadata": {},
   "outputs": [],
   "source": []
  },
  {
   "cell_type": "code",
   "execution_count": 58,
   "id": "92cdd3d7",
   "metadata": {
    "scrolled": true
   },
   "outputs": [
    {
     "name": "stdout",
     "output_type": "stream",
     "text": [
      "10-1. ['https://www.shutterstock.com/image-vector/people-head-portraits-set-diverse-260nw-2090706037.jpg', 'People head portraits set. Diverse men and women faces of different age and race. Happy modern young and old person avatars. Characters bundle. Flat vector illustrations isolated on white background'] downloaded\n",
      "10-2. ['https://www.shutterstock.com/image-photo/young-handsome-man-beard-wearing-260nw-1682403889.jpg', '年轻英俊的男人，留着胡子，穿着休闲的毛衣和蓝色背景上的眼镜，非常高兴和兴奋，举起双臂做赢家的手势，微笑着为成功而尖叫。庆典'] downloaded\n",
      "10-3. ['https://www.shutterstock.com/image-vector/elegant-bearded-man-suit-animation-260nw-1464505976.jpg', '身穿西装动画套装或构造工具包的优雅大胡子男人。捆绑身体部位、姿势、发型、正式服装。男性卡通人物。正面、侧面、后视图。平面矢量插图。'] downloaded\n",
      "10-4. ['https://www.shutterstock.com/image-photo/set-real-people-happy-faces-260nw-1926929729.jpg', 'Set of real people happy faces and different diverse human portraits expressing positive emotions over white and gray studio backgrounds. Mosaic of mixed crowd of men and women. Panorama, collage'] downloaded\n",
      "10-5. ['https://www.shutterstock.com/image-photo/collage-handsome-young-indian-man-260nw-1244012020.jpg', 'Collage of handsome young indian man over isolated background looking to side, relax profile pose with natural face with confident smile.'] downloaded\n",
      "10-6. ['https://www.shutterstock.com/image-photo/asian-man-portrait-studio-260nw-342224027.jpg', 'Asian man portrait in studio'] downloaded\n",
      "10-7. ['https://www.shutterstock.com/image-photo/loving-couple-posing-on-white-260nw-1891130290.jpg', 'Loving couple posing on a white background. Relationship concept.back view '] downloaded\n",
      "10-8. ['https://www.shutterstock.com/image-photo/young-hispanic-businessman-arms-crossed-260nw-1933254401.jpg', 'Young hispanic businessman with arms crossed smiling happy at the city.'] downloaded\n",
      "10-9. ['https://www.shutterstock.com/image-photo/handsome-hispanic-man-wearing-turtleneck-260nw-1902826798.jpg', 'Handsome hispanic man wearing turtleneck sweater celebrating surprised and amazed for success with arms raised and eyes closed '] downloaded\n",
      "10-10. ['https://www.shutterstock.com/image-photo/young-hispanic-businessman-arms-crossed-260nw-1928487383.jpg', 'Young hispanic businessman with arms crossed smiling happy at the city.'] downloaded\n",
      "10-11. ['https://www.shutterstock.com/image-photo/young-hispanic-man-having-facial-260nw-2140265039.jpg', 'Young hispanic man having facial mask treatment at beauty center'] downloaded\n",
      "10-12. ['https://www.shutterstock.com/image-photo/young-surprised-man-blue-tshirt-260nw-1190324245.jpg', '穿着蓝色 T 恤的年轻人惊讶地用手指指着右边，喊着 WOW，孤立在灰色背景上，文本有复制空间。冲击含量'] downloaded\n",
      "10-13. ['https://www.shutterstock.com/image-photo/shocked-indian-man-face-260nw-587747804.jpg', 'Shocked Indian man face'] downloaded\n",
      "10-14. ['https://www.shutterstock.com/image-photo/middle-age-greyhaired-man-wearing-260nw-1892905750.jpg', 'Middle age grey-haired man wearing casual clothes smiling with hands on chest with closed eyes and grateful gesture on face. health concept. '] downloaded\n",
      "❌failed to download 10-15. ['https://www.shutterstock.com/image-photo/beautiful-fashionable-young-russian-girl-260nw-1918188047.jpg', 'beautiful fashionable young russian girl\\n']\n",
      "10-16. ['https://www.shutterstock.com/image-photo/side-view-portrait-confident-bearded-260nw-594264836.jpg', '自信的大胡子男子与美丽的发型在白色衬衫寻找复制空间的侧视图'] downloaded\n",
      "10-17. ['https://www.shutterstock.com/image-photo/young-hispanic-man-smiling-happy-260nw-2214295157.jpg', 'Young hispanic man smiling happy sitting on the sofa at home.'] downloaded\n",
      "10-18. ['https://www.shutterstock.com/image-photo/what-do-worried-nervous-millennial-260nw-2017793894.jpg', 'What to do. Worried nervous millennial man covering mouth with hands feeling fear panic attack having mental problems. Desperate scared man need psychological help can not see way out of life crisis'] downloaded\n",
      "10-19. ['https://www.shutterstock.com/image-photo/collage-picture-different-cheerful-adult-260nw-567919597.jpg', '不同快乐的成年人表达幸福的拼贴图片。美丽的白色人类微笑'] downloaded\n",
      "10-20. ['https://www.shutterstock.com/image-photo/handsome-young-man-isolated-portrait-260nw-746327698.jpg', '英俊的年轻人孤立。 没有衬衫肌肉的人的肖像站在灰色背景。'] downloaded\n",
      "10-21. ['https://www.shutterstock.com/image-photo/portrait-attractive-athlete-260nw-317215418.jpg', '肖像一个有吸引力的运动员'] downloaded\n",
      "10-22. ['https://www.shutterstock.com/image-photo/male-portrait-concept-perfect-skin-260nw-2119015742.jpg', 'Male portrait concept. Perfect skin tone. I am just man. Facial care and ageing. Attractive mature man. Mature guy with grey hair and bristle. Men get more attractive with age. Beauty of mature face'] downloaded\n",
      "10-23. ['https://www.shutterstock.com/image-vector/young-smiling-man-barista-wearing-260nw-2144413105.jpg', 'Young smiling man barista  wearing apron standing whipped milk into the coffee mug. Coffee shop, coffee time and take away concept. 3d vector people character illustration.Cartoon minimal style.'] downloaded\n",
      "10-24. ['https://www.shutterstock.com/image-photo/portrait-healthy-happy-smile-senior-260nw-1441318430.jpg', '健康快乐微笑的肖像高级老人白种人老人脸交叉手臂交叉在白色隔离。黄金时代的祖父医疗保健快乐的生活方式，自由放松退休概念 '] downloaded\n",
      "10-25. ['https://www.shutterstock.com/image-photo/portrait-business-man-wearing-smart-260nw-1663176808.jpg', 'Portrait of business man wearing smart casual clothes smiling on gray studio background with copy space advertising area'] downloaded\n",
      "10-26. ['https://www.shutterstock.com/image-photo/portrait-handsome-man-indoor-260nw-1926756707.jpg', 'Portrait of a handsome man indoor'] downloaded\n",
      "10-27. ['https://www.shutterstock.com/image-vector/set-vector-bearded-men-faces-260nw-523618702.jpg', '设置矢量胡子男人的脸，时髦与不同的理发，胡子，胡须。 轮廓，徽章，图标，标签。'] downloaded\n",
      "10-28. ['https://www.shutterstock.com/image-photo/cropped-portrait-handsome-mature-businessman-260nw-1929520220.jpg', 'Cropped portrait of a handsome mature businessman in glasses isolated over white background'] downloaded\n",
      "10-29. ['https://www.shutterstock.com/image-vector/set-man-face-portrait-three-260nw-2074973443.jpg', 'Set of man face portrait three different angles and turns of a male head. Close-up vector line sketch. Different view front, profile, three-quarter of a boy. Vector realistic sketch line illustration'] downloaded\n",
      "10-30. ['https://www.shutterstock.com/image-photo/man-white-tshirt-look-his-260nw-1711537474.jpg', 'A man in white t-shirt look at his face in the mirror to find the pimpers.'] downloaded\n",
      "10-31. ['https://www.shutterstock.com/image-photo/portrait-young-confident-sports-man-260nw-1719634060.jpg', '年轻自信的运动员在无线耳塞中听音乐并戴上医用口罩的肖像。快乐的运动人戴着防护面具和微笑。COVID-19 家庭隔离培训'] downloaded\n",
      "10-32. ['https://www.shutterstock.com/image-photo/young-indian-man-portrait-studio-260nw-61763278.jpg', 'Young Indian man portrait in studio'] downloaded\n",
      "10-33. ['https://www.shutterstock.com/image-photo/attractive-brutal-modern-manly-virile-260nw-1110990626.jpg', '有吸引力、残酷、现代、男子气概、有活力、自信、梦幻、裸体男人触摸他完美、理想的脸部皮肤、手牵着胡子、脸颊、看着相机、孤立在灰色背景上'] downloaded\n",
      "10-34. ['https://www.shutterstock.com/image-photo/panoramic-banner-portrait-young-smiling-260nw-2184130565.jpg', 'Panoramic banner portrait of young smiling man looking away  on white background with copy space. Black and white photo.'] downloaded\n",
      "10-35. ['https://www.shutterstock.com/image-vector/face-expressions-handsome-man-different-260nw-1931898497.jpg', 'Face expressions of handsome man. Different male emotions set. Young guy cartoon character. Stock vector illustration on white background'] downloaded\n",
      "10-36. ['https://www.shutterstock.com/image-photo/very-old-man-portrait-260nw-144961078.jpg', '很老人的肖像'] downloaded\n",
      "10-37. ['https://www.shutterstock.com/image-photo/closeup-portrait-attractive-content-perfect-260nw-1929119156.jpg', 'Close-up portrait of attractive content perfect well-groomed brunet guy touching chin isolated over light grey color background'] downloaded\n",
      "10-38. ['https://www.shutterstock.com/image-photo/young-handsome-man-wearing-casual-260nw-1826034704.jpg', '年轻英俊的男人穿着休闲毛衣站在孤立的黄色背景上，非常高兴和兴奋地举起双臂做赢家的手势，微笑着为成功而尖叫。庆祝概念。'] downloaded\n",
      "10-39. ['https://www.shutterstock.com/image-photo/young-handsome-man-beard-wearing-260nw-1687637803.jpg', '年轻英俊的男人，留着胡子，穿着休闲毛衣和眼镜在蓝色背景上，害怕和震惊，惊讶的表情，恐惧和兴奋的脸。'] downloaded\n",
      "10-40. ['https://www.shutterstock.com/image-photo/style-stylish-therapy-treatment-problem-260nw-1044952294.jpg', '风格时尚的治疗问题概念。 上面剪裁的顶部特写查看照片清晰的光泽与凝胶蜡乳完美的理想修饰整洁的头发孤立在灰色背景上'] downloaded\n"
     ]
    },
    {
     "name": "stdout",
     "output_type": "stream",
     "text": [
      "10-41. ['https://www.shutterstock.com/image-photo/profile-photo-sporty-active-guy-260nw-2113650164.jpg', 'Profile photo of sporty active guy jump hold netbook run work wear specs green shirt isolated blue color background'] downloaded\n",
      "10-42. ['https://www.shutterstock.com/image-vector/man-woman-faces-vector-profiles-260nw-79012141.jpg', '男人和女人面临矢量配置文件'] downloaded\n",
      "10-43. ['https://www.shutterstock.com/image-vector/silhouette-male-sideview-wearing-baseball-260nw-2211008253.jpg', 'Silhouette of a male sideview wearing a baseball cap backward. Black silhouette of man in a white background.'] downloaded\n",
      "10-44. ['https://www.shutterstock.com/image-photo/young-handsome-african-nigerian-man-260nw-1682039668.jpg', '年轻英俊的非洲裔尼日利亚男子戴着口罩防止、防止、阻止自己在社会中爆发疫情，并做了一个爱的标志。'] downloaded\n",
      "10-45. ['https://www.shutterstock.com/image-vector/happy-positive-laughing-bearded-male-260nw-364008416.jpg', 'Happy positive laughing bearded male looking at camera. Easy editable layered vector illustration. '] downloaded\n",
      "10-46. ['https://www.shutterstock.com/image-photo/young-hispanic-businessman-arms-crossed-260nw-1923080534.jpg', '年轻的西班牙裔商人双臂交叉在城市里开心地微笑。'] downloaded\n",
      "10-47. ['https://www.shutterstock.com/image-photo/night-handsome-caucasian-mans-portrait-260nw-1900572241.jpg', \"Night. Handsome caucasian man's portrait isolated on purple studio background in neon, monochrome. Beautiful male model. Concept of human emotions, facial expression, sales, ad, fashion and beauty\"] downloaded\n",
      "10-48. ['https://www.shutterstock.com/image-photo/portrait-mature-man-on-black-260nw-183059648.jpg', '肖像一个成熟的男人上黑色背景'] downloaded\n",
      "10-49. ['https://www.shutterstock.com/image-photo/closeup-handsome-adult-man-beard-260nw-1908824512.jpg', 'Close-up of handsome adult man with beard, wearing gray t-shirt, smiling happy, standing over white background'] downloaded\n",
      "10-50. ['https://www.shutterstock.com/image-photo/closeup-portrait-confident-middle-eastern-260nw-136789808.jpg', '一个自信的中东商人的特写肖像'] downloaded\n",
      "10-51. ['https://www.shutterstock.com/image-vector/antidust-white-face-mask-fabric-260nw-1673007259.jpg', '运行的防尘白色口罩织物模板矢量'] downloaded\n",
      "10-52. ['https://www.shutterstock.com/image-photo/young-man-looking-260nw-64709848.jpg', '年轻人抬头'] downloaded\n",
      "10-53. ['https://www.shutterstock.com/image-photo/portrait-smiling-young-man-260nw-146546900.jpg', '肖像一个微笑的年轻人'] downloaded\n",
      "10-54. ['https://www.shutterstock.com/image-photo/business-portrait-businessman-sitting-office-260nw-2107399232.jpg', 'Business portrait - businessman sitting in in office working with laptop computer. Mature age, middle age, mid adult man in 50s with happy confident smile. Copy space.'] downloaded\n",
      "10-55. ['https://www.shutterstock.com/image-photo/close-head-shot-happy-laughing-260nw-1877633077.jpg', 'Close up head shot happy laughing young 30s african american handsome man applying moisturizing cream on cheeks, feeling excited of using professional cosmetics in domestic skincare procedure.'] downloaded\n",
      "10-56. ['https://www.shutterstock.com/image-vector/handsome-black-man-young-front-260nw-2127472937.jpg', 'Handsome black man. Young man, front view portrait. Cheerful face, short black hair, beard. Male head and shoulders, casual clothes. Modern vector illustration for poster, banner, design.'] downloaded\n",
      "10-57. ['https://www.shutterstock.com/image-vector/women-man-modern-line-logo-260nw-1025854810.jpg', '女士男士现代线条标志图标'] downloaded\n",
      "10-58. ['https://www.shutterstock.com/image-vector/arab-man-character-creation-set-260nw-593680358.jpg', '阿拉伯男子角色创作集。 图标与不同类型的面孔和伊斯兰头巾男人的服装风格，情绪，前，后，侧视男性的人。 移动的手臂，腿。 矢量插图'] downloaded\n",
      "10-59. ['https://www.shutterstock.com/image-photo/asian-man-washing-his-face-260nw-2100527635.jpg', 'Asian man washing his face with facial cleansing Foam'] downloaded\n",
      "10-60. ['https://www.shutterstock.com/image-photo/silhouette-portrait-man-his-back-260nw-1502057285.jpg', '背部看着别处，孤立在白色背景上的男人的剪影肖像'] downloaded\n",
      "10-61. ['https://www.shutterstock.com/image-photo/low-key-image-male-260nw-175047959.jpg', 'Low key image of a male'] downloaded\n",
      "10-62. ['https://www.shutterstock.com/image-photo/young-man-wearing-virtual-reality-260nw-1854146551.jpg', 'Young man wearing virtual reality headset, lauthing at loud, enjoying watching 3d movie in vr glasses'] downloaded\n",
      "10-63. ['https://www.shutterstock.com/image-photo/handsome-man-wearing-white-clothes-260nw-387823966.jpg', '英俊的男人穿着白色衣服摆在海景中'] downloaded\n",
      "10-64. ['https://www.shutterstock.com/image-vector/how-wear-mask-correct-man-260nw-1667030734.jpg', '如何正确佩戴口罩。男士介绍戴口罩的正确方法，以减少细菌、病毒和细菌的传播。平面样式的矢量插图'] downloaded\n",
      "10-65. ['https://www.shutterstock.com/image-vector/male-face-constructor-handsome-man-260nw-2179415871.jpg', 'Male face constructor, handsome man portrait creator. Avatar generator in realistic style. Eyes, brows, noses, lips, different hairstyles. '] downloaded\n",
      "10-66. ['https://www.shutterstock.com/image-photo/full-body-portrait-asian-man-260nw-2199536699.jpg', 'Full body portrait of Asian man pointing to the right side with excited expression'] downloaded\n",
      "10-67. ['https://www.shutterstock.com/image-photo/paintography-portrait-combined-hand-drawn-260nw-1266819832.jpg', '彩绘。 人像结合手绘墨水'] downloaded\n",
      "10-68. ['https://www.shutterstock.com/image-photo/studio-shot-young-asian-man-260nw-1621978660.jpg', 'Studio shot of young Asian man thinking'] downloaded\n",
      "10-69. ['https://www.shutterstock.com/image-photo/young-handsome-man-beard-wearing-260nw-1723935472.jpg', '年轻英俊的男人，留着胡子，穿着休闲衬衫，站在粉红色的背景上，开心的脸，双臂交叉微笑着看着镜头。积极的人。'] downloaded\n",
      "10-70. ['https://www.shutterstock.com/image-vector/head-silhouettes-female-male-faces-260nw-1896987865.jpg', 'Head silhouettes. Female and male faces portraits, anonymous person head silhouette vector illustration set. People profile and full face portraits. Black outline avatars, unknown characters'] downloaded\n",
      "10-71. ['https://www.shutterstock.com/image-vector/beautiful-line-art-surreal-abstract-260nw-1932541223.jpg', 'beautiful line art surreal abstract human face. Men collection set'] downloaded\n",
      "10-72. ['https://www.shutterstock.com/image-photo/portrait-successful-middle-aged-bearded-260nw-2104457831.jpg', 'Portrait of Successful Middle Aged Bearded Man Looking at Camera and Smiling. Handsome Senior Businessman Wearing Jacket, Having Fun. Close-up Shot'] downloaded\n",
      "10-73. ['https://www.shutterstock.com/image-photo/composition-smiling-people-260nw-85451623.jpg', '微笑的人组成'] downloaded\n",
      "10-74. ['https://www.shutterstock.com/image-photo/portrait-happy-young-asian-man-260nw-1613527732.jpg', 'Portrait of happy young Asian man touching his chin'] downloaded\n",
      "10-75. ['https://www.shutterstock.com/image-vector/young-man-touching-his-glasses-260nw-2182892363.jpg', 'Young man touching his glasses and looking ahead. Flat vector illustration isolated on white background'] downloaded\n",
      "10-76. ['https://www.shutterstock.com/image-photo/young-man-face-expressions-composite-260nw-68948665.jpg', '年轻男子脸上的表情复合隔离在白色背景'] downloaded\n",
      "10-77. ['https://www.shutterstock.com/image-vector/abstract-face-man-on-single-260nw-1785076838.jpg', 'Abstract face of a man on a single line of a vector drawing. Portrait in a minimalistic style. Symbol of the nature of cosmetics. Modern continuous line of art. Fashionable print. Logo of barbershop.'] downloaded\n",
      "10-78. ['https://www.shutterstock.com/image-illustration/young-beautiful-man-hand-painted-260nw-1626704131.jpg', 'Young beautiful man, hand painted watercolor fashion illustration. '] downloaded\n",
      "❌failed to download 10-79. ['https://www.shutterstock.com/image-photo/smiling-beautiful-old-man-rock-260nw-2208996827.jpg', 'Smiling beautiful old man - rock fan -\\r is posing with gray long hair. Horizontally. ']\n",
      "10-80. ['https://www.shutterstock.com/image-photo/protrait-handsome-man-wearing-vest-260nw-89521309.jpg', 'protrait of a handsome man wearing vest, Indian man with a muscular body'] downloaded\n",
      "❌failed to download 10-81. ['https://www.shutterstock.com/image-illustration/scary-horror-background-monster-mystic-260nw-2193175861.jpg', '\\nScary horror background with a scary monster, mystic. Design. Halloween wallpapers.  Hi tech. AI.']\n",
      "10-82. ['https://www.shutterstock.com/image-photo/confident-young-man-looking-away-260nw-1449002393.jpg', '自信的年轻人带着灿烂的笑容看着别处。快乐帅哥透过窗户看着想着未来。微笑的休闲男人的特写脸想象与副本空间。'] downloaded\n"
     ]
    },
    {
     "name": "stdout",
     "output_type": "stream",
     "text": [
      "10-83. ['https://www.shutterstock.com/image-vector/man-woman-face-silhouette-stock-260nw-1321704800.jpg', 'Man and woman face silhouette. Face to face – for stock'] downloaded\n",
      "10-84. ['https://www.shutterstock.com/image-vector/set-man-face-different-angles-260nw-2033183981.jpg', 'Set of man face. Different angles Front and profile view. Male portrait of young beautiful boy with trendy hairdo. Vector line sketch illustration.'] downloaded\n",
      "10-85. ['https://www.shutterstock.com/image-photo/close-portrait-smiling-attractive-senior-260nw-152524037.jpg', '关闭了一个微笑的有吸引力的老人直接看着镜头的肖像 copyspace'] downloaded\n",
      "10-86. ['https://www.shutterstock.com/image-photo/unshaven-man-having-cosmetic-mask-260nw-1164521035.jpg', '在水疗沙龙拥有化妆面具的胡子，顶视图'] downloaded\n",
      "10-87. ['https://www.shutterstock.com/image-photo/handsome-millennial-man-look-bathroom-260nw-1740774449.jpg', 'Handsome millennial man look in bathroom mirror after shower apply nourishing facial cream or mask, young caucasian male use moisturizing face balm for healthy glowing skin, skincare concept'] downloaded\n",
      "10-88. ['https://www.shutterstock.com/image-photo/photo-young-halfnaked-man-posing-260nw-1630598449.jpg', 'Photo of young half-naked man posing and looking at camera isolated over white background'] downloaded\n",
      "10-89. ['https://www.shutterstock.com/image-photo/attractive-swedish-man-stylish-hair-260nw-725706685.jpg', '有吸引力的瑞典人与时尚的头发和胡子笑着从朋友有趣的故事，交叉的双手和闭上眼睛。'] downloaded\n",
      "10-90. ['https://www.shutterstock.com/image-vector/vector-black-white-illustration-handsome-260nw-2168870727.jpg', \"vector black and white illustration of handsome manly male face shaped by shadow. useful for men's products advertising, beauty salons, barbershops, skin care cosmetics, logo, print, poster, design\"] downloaded\n",
      "10-91. ['https://www.shutterstock.com/image-photo/close-portrait-brunet-hair-man-260nw-1237700512.jpg', 'Close up portrait of brunet hair man isolated on pastel pink wall look at camera'] downloaded\n",
      "10-92. ['https://www.shutterstock.com/image-photo/portrait-excited-young-soccer-supporter-260nw-2164283197.jpg', 'Portrait of excited young soccer supporter man in yellow-blue t-shirt and scarf and painted face, cheering for his favourite team. Isolated over black background.'] downloaded\n",
      "10-93. ['https://www.shutterstock.com/image-photo/selective-focus-on-face-bearded-260nw-2123605214.jpg', 'selective focus on the face of a bearded man in sunglasses and a ski helmet on the background of a snowy mountain'] downloaded\n",
      "10-94. ['https://www.shutterstock.com/image-photo/young-hispanic-man-smiling-happy-260nw-2196688275.jpg', 'Young hispanic man smiling happy standing with arms crossed gesture at home.'] downloaded\n",
      "10-95. ['https://www.shutterstock.com/image-photo/emotions-faces-set-handsome-bearded-260nw-655917121.jpg', '情绪面对设置英俊的胡子的家伙'] downloaded\n",
      "10-96. ['https://www.shutterstock.com/image-photo/studio-closeup-portrait-blond-mature-260nw-1717537549.jpg', 'Studio close-up portrait of blond mature man with happy expression on face, with positive facial emotion, smiling, looking straight ahead. Headshot over gray background'] downloaded\n",
      "10-97. ['https://www.shutterstock.com/image-photo/close-attractive-man-lying-relaxing-260nw-357283217.jpg', '关闭有魅力的男人躺在水疗中心放松身心。美容师正在皮肤上涂面霜'] downloaded\n",
      "10-98. ['https://www.shutterstock.com/image-photo/attractive-young-man-20s-perfect-260nw-2176112119.jpg', 'Attractive young man 20s perfect skin in undershirt surrounded by water drops wash his face isolated on plain pastel beige background studio portrait. Skin care healthcare cosmetic procedures concept'] downloaded\n",
      "10-99. ['https://www.shutterstock.com/image-photo/handsome-hispanic-man-beard-smiling-260nw-2030584697.jpg', 'Handsome hispanic man with beard smiling happy outdoors'] downloaded\n",
      "10-100. ['https://www.shutterstock.com/image-photo/young-man-spraying-water-on-260nw-287165825.jpg', 'Young man spraying water on his face over gray background'] downloaded\n",
      "❌failed to download 10-101. ['https://www.shutterstock.com/image-photo/young-man-washing-his-face-260nw-2105344232.jpg', 'Young man washing his face Beauty Image\\t\\n']\n",
      "10-102. ['https://www.shutterstock.com/image-photo/man-working-computer-contemporary-office-260nw-284519000.jpg', '在当代办公室的电脑上工作的人'] downloaded\n",
      "10-103. ['https://www.shutterstock.com/image-photo/delivery-man-employee-red-cap-260nw-1682833477.jpg', '穿红帽子的送货员员工空白 t 恤制服口罩手套拿着空纸板箱隔离在黄色背景工作室服务隔离疫情冠状病毒病毒 2019-ncov 概念'] downloaded\n",
      "10-104. ['https://www.shutterstock.com/image-vector/handsome-men-faces-hairstyles-heads-260nw-2116196678.jpg', 'Handsome men faces and hairstyles heads vector illustrations set isolated on white background, guy happy attractive beautiful faces avatars collection with different haircuts.'] downloaded\n",
      "10-105. ['https://www.shutterstock.com/image-photo/collage-happy-mixed-young-people-260nw-1937817985.jpg', '工作室背景下的快乐混合年轻人肖像的拼贴画'] downloaded\n",
      "\n",
      "-----\n",
      "\n",
      "Finished.\n"
     ]
    }
   ],
   "source": [
    "# 連續載10頁\n",
    "how_many_pages = 10\n",
    "\n",
    "for pages in range(10,how_many_pages+1):\n",
    "    # 前往網址\n",
    "    url = \"https://www.shutterstock.com/zh/search/man-faces?page=\"+str(pages)\n",
    "    browser.get(url)\n",
    "    browser.implicitly_wait(60)\n",
    "    \n",
    "    # 頁面捲到最底，載入所有圖片\n",
    "    browser.execute_script(\"window.scrollTo(0,document.body.scrollHeight)\")\n",
    "    time.sleep(1)\n",
    "#     print(\"scrolled.\")\n",
    "    \n",
    "    # get html page\n",
    "    soup = BeautifulSoup(browser.page_source, 'html.parser')\n",
    "#     print(\"soup get.\")\n",
    "    \n",
    "    # locate所有圖片\n",
    "    elements = soup.find_all(class_=\"mui-1l7n00y-thumbnail\")\n",
    "    links = list([])\n",
    "    for element in elements:\n",
    "        links.append([element.get('src'), element.get('title')])\n",
    "#     print(\"共找到:\", str(len(links)), \"張照片\")\n",
    "    \n",
    "    # 照片儲存path\n",
    "    save_img_folder = './Straight faces/'\n",
    "    for i in range(len(links)):\n",
    "        try:\n",
    "            img_data = requests.get(links[i][0]).content\n",
    "            with open(save_img_folder+links[i][1]+'.jpg', 'wb') as handler:\n",
    "                handler.write(img_data)\n",
    "            print(str(pages)+\"-\"+str(i+1)+\".\", links[i], \"downloaded\")\n",
    "        except:\n",
    "            print(\"❌failed to download\", str(pages)+\"-\"+str(i+1)+\".\", links[i])\n",
    "    print(\"\\n-----\\n\")\n",
    "print(\"Finished.\")"
   ]
  },
  {
   "cell_type": "code",
   "execution_count": null,
   "id": "babd411a",
   "metadata": {},
   "outputs": [],
   "source": []
  }
 ],
 "metadata": {
  "kernelspec": {
   "display_name": "Python 3 (ipykernel)",
   "language": "python",
   "name": "python3"
  },
  "language_info": {
   "codemirror_mode": {
    "name": "ipython",
    "version": 3
   },
   "file_extension": ".py",
   "mimetype": "text/x-python",
   "name": "python",
   "nbconvert_exporter": "python",
   "pygments_lexer": "ipython3",
   "version": "3.9.7"
  }
 },
 "nbformat": 4,
 "nbformat_minor": 5
}
